{
 "cells": [
  {
   "cell_type": "code",
   "execution_count": 1,
   "id": "610c33c9",
   "metadata": {},
   "outputs": [
    {
     "data": {
      "image/png": "[encoded data removed]",
      "text/plain": [
       "<Figure size 432x288 with 1 Axes>"
      ]
     },
     "metadata": {
      "needs_background": "light"
     },
     "output_type": "display_data"
    },
    {
     "name": "stdout",
     "output_type": "stream",
     "text": [
      "the average accuracy : 90.16\n"
     ]
    }
   ],
   "source": [
    "import scipy.io as sio\n",
    "import scipy\n",
    "import numpy as np\n",
    "import cv2\n",
    "from matplotlib import pyplot as plt\n",
    "from scipy import stats\n",
    "\n",
    "train=sio.loadmat('mnist_train', mdict=None, appendmat=True)\n",
    "test=sio.loadmat('mnist_test', mdict=None, appendmat=True)       \n",
    "a=train['traindata']\n",
    "Ytrain=[]\n",
    "Xtrain=[]\n",
    "for i in range(0,len(a)):\n",
    "    Ytrain.append(a[i][0])\n",
    "    x=a[i].tolist()\n",
    "    del x[0]\n",
    "    Xtrain.append(x)\n",
    "b=test['testdata']\n",
    "Ytest=[]\n",
    "Xtest=[]\n",
    "for i in range(0,len(b)):\n",
    "    Ytest.append(b[i][0])\n",
    "    x=b[i].tolist()\n",
    "    del x[0]\n",
    "    Xtest.append(x)\n",
    "    \n",
    "g=np.ones((500,5),dtype='int32')\n",
    "#yg=np.ones((500,1),dtype='int32')\n",
    "for i in range(0,len(Xtest)):\n",
    "    a=Xtest[i]\n",
    "    a=np.array(a)\n",
    "    b=a*np.ones((5000,784),dtype='int32')\n",
    "    diff=(Xtrain)-b\n",
    "    squared_diff=diff**2    \n",
    "    summed=np.sum(squared_diff,axis=1,dtype='int32')\n",
    "    dist=np.sqrt(summed)\n",
    "    distance=dist.tolist()\n",
    "    indices=[]\n",
    "    for k in range(0,11):\n",
    "        min_index=distance.index(min(distance))\n",
    "        indices.append(min_index)\n",
    "        distance[min_index]=max(distance)+1\n",
    "    Ylabel=[]\n",
    "    for j in range(0,11):\n",
    "        Ylabel.append(Ytrain[indices[j]])\n",
    "    g[i][0]=Ylabel[0]\n",
    "    g[i][1]=stats.mode(Ylabel[0:3])[0]\n",
    "    g[i][2]=stats.mode(Ylabel[0:5])[0]\n",
    "    g[i][3]=stats.mode(Ylabel[0:9])[0]\n",
    "    g[i][4]=stats.mode(Ylabel[0:11])[0]\n",
    "    \n",
    "ytest=np.reshape(Ytest,(500,1))\n",
    "c=ytest*np.ones((500,5),dtype='int32')\n",
    "error=g-c\n",
    "k=[1,3,5,9,11]\n",
    "k=np.array(k)\n",
    "no=[]\n",
    "for i in range(0,5):\n",
    "    count=0\n",
    "    for j in range(0,500):\n",
    "        if g[j][i]==c[j][i]:\n",
    "            count=count+1\n",
    "    no.append(count)\n",
    "no=np.array(no)\n",
    "no=no/5\n",
    "plt.plot(k,no)\n",
    "plt.xlabel('k -->')\n",
    "plt.ylabel('accuracy -->')\n",
    "plt.title('task 1 using MNIST dataset')\n",
    "plt.show()\n",
    "print('the average accuracy :',np.mean(no))"
   ]
  },
  {
   "cell_type": "code",
   "execution_count": 2,
   "id": "f10ab1bd",
   "metadata": {},
   "outputs": [
    {
     "data": {
      "image/png": "[encoded data removed]",
      "text/plain": [
       "<Figure size 432x288 with 1 Axes>"
      ]
     },
     "metadata": {
      "needs_background": "light"
     },
     "output_type": "display_data"
    },
    {
     "name": "stdout",
     "output_type": "stream",
     "text": [
      "the average accuracy : 29.880000000000003\n"
     ]
    }
   ],
   "source": [
    "import scipy.io as sio\n",
    "import scipy\n",
    "import numpy as np\n",
    "import cv2\n",
    "from matplotlib import pyplot as plt\n",
    "from scipy import stats\n",
    "Xhist_train=[]\n",
    "for i in range(0,len(Xtrain)):\n",
    "    hist=np.histogram(Xtrain[i],bins=[j for j in range(0,256)])[0]\n",
    "    Xhist_train.append(hist)\n",
    "Xhist_test=[]\n",
    "for i in range(0,len(Xtest)):\n",
    "    hist=np.histogram(Xtest[i],bins=[j for j in range(0,256)])[0]\n",
    "    Xhist_test.append(hist)\n",
    "g=np.ones((500,5),dtype='int64')\n",
    "for i in range(0,len(Xhist_test)):\n",
    "    a=Xhist_test[i]\n",
    "    h=a*np.ones((5000,255),dtype='int64')\n",
    "    difference=Xhist_train-h\n",
    "    diff=difference**2\n",
    "    sqrd_dist=np.sum(diff,axis=1,dtype='int64')\n",
    "    dist=np.sqrt(sqrd_dist)\n",
    "    distance=dist.tolist()\n",
    "    indexes=[]\n",
    "    for k in range(0,11):\n",
    "        min_dist=distance.index(min(distance))\n",
    "        indexes.append(min_dist)\n",
    "        distance[min_dist]=max(distance)+1\n",
    "    Ylabel=[]\n",
    "    for j in range(0,11):\n",
    "        Ylabel.append(Ytrain[indexes[j]])\n",
    "    g[i][0]=Ylabel[0]\n",
    "    g[i][1]=stats.mode(Ylabel[0:3])[0].tolist()[0]\n",
    "    g[i][2]=stats.mode(Ylabel[0:5])[0].tolist()[0]\n",
    "    g[i][3]=stats.mode(Ylabel[0:9])[0].tolist()[0]\n",
    "    g[i][4]=stats.mode(Ylabel[0:11])[0].tolist()[0]\n",
    "        \n",
    "ytest=np.reshape(Ytest,(500,1))\n",
    "c=ytest*np.ones((500,5),dtype='int64')\n",
    "error=g-c\n",
    "k=[1,3,5,9,11]\n",
    "k=np.array(k)\n",
    "no=[]\n",
    "for i in range(0,5):\n",
    "    count=0\n",
    "    for j in range(0,500):\n",
    "        if error[j][i]==0:\n",
    "            count=count+1\n",
    "    no.append(count)\n",
    "no=np.array(no)\n",
    "no=no/5\n",
    "plt.plot(k,no)\n",
    "plt.xlabel('k -->')\n",
    "plt.ylabel('accuracy -->')\n",
    "plt.title('task 2 using MNIST dataset')\n",
    "plt.show()\n",
    "print('the average accuracy :',np.mean(no))    "
   ]
  },
  {
   "cell_type": "code",
   "execution_count": 3,
   "id": "187bd3e4",
   "metadata": {},
   "outputs": [
    {
     "data": {
      "image/png": "[encoded data removed]",
      "text/plain": [
       "<Figure size 432x288 with 1 Axes>"
      ]
     },
     "metadata": {
      "needs_background": "light"
     },
     "output_type": "display_data"
    },
    {
     "name": "stdout",
     "output_type": "stream",
     "text": [
      "the average accuracy : 18.48\n"
     ]
    }
   ],
   "source": [
    "import scipy.io as sio\n",
    "import scipy\n",
    "import numpy as np\n",
    "import cv2\n",
    "from matplotlib import pyplot as plt\n",
    "from scipy import stats\n",
    "\n",
    "Train=sio.loadmat('CIFAR10_Train', mdict=None, appendmat=True)\n",
    "Test=sio.loadmat('CIFAR10_Test', mdict=None, appendmat=True) \n",
    "Xtrain=Train['CIFAR10_Train_Data']\n",
    "Xtrain=Xtrain.tolist()\n",
    "Xtest=Test['CIFAR10_Test_Data']\n",
    "Xtest=Xtest.tolist()\n",
    "Ytest=Test['CIFAR10_Test_Labels']\n",
    "Ytest=Ytest.tolist()\n",
    "Ytrain=Train['CIFAR10_Train_Labels']\n",
    "Ytrain=Ytrain.tolist()\n",
    "    \n",
    "Xhist_train=[]\n",
    "for i in range(0,len(Xtrain)):\n",
    "    hist=np.histogram(Xtrain[i],bins=[j for j in range(0,256)])[0]\n",
    "    Xhist_train.append(hist)\n",
    "Xhist_test=[]\n",
    "for i in range(0,len(Xtest)):\n",
    "    hist=np.histogram(Xtest[i],bins=[j for j in range(0,256)])[0]\n",
    "    Xhist_test.append(hist)\n",
    "g=np.ones((500,5),dtype='int64')\n",
    "for i in range(0,len(Xhist_test)):\n",
    "    a=Xhist_test[i]\n",
    "    h=a*np.ones((5000,255),dtype='int64')\n",
    "    difference=Xhist_train-h\n",
    "    diff=difference**2\n",
    "    sqrd_dist=np.sum(diff,axis=1,dtype='int64')\n",
    "    dist=np.sqrt(sqrd_dist)\n",
    "    distance=dist.tolist()\n",
    "    indexes=[]\n",
    "    for k in range(0,11):\n",
    "        min_dist=distance.index(min(distance))\n",
    "        indexes.append(min_dist)\n",
    "        distance[min_dist]=max(distance)+1\n",
    "    Ylabel=[]\n",
    "    for j in range(0,11):\n",
    "        Ylabel.append(Ytrain[indexes[j]])\n",
    "    g[i][0]=Ylabel[0][0]\n",
    "    g[i][1]=stats.mode(Ylabel[0:3])[0].tolist()[0][0]\n",
    "    g[i][2]=stats.mode(Ylabel[0:5])[0].tolist()[0][0]\n",
    "    g[i][3]=stats.mode(Ylabel[0:9])[0].tolist()[0][0]\n",
    "    g[i][4]=stats.mode(Ylabel[0:11])[0].tolist()[0][0]\n",
    "        \n",
    "ytest=np.reshape(Ytest,(500,1))\n",
    "c=ytest*np.ones((500,5),dtype='int64')\n",
    "error=g-c\n",
    "k=[1,3,5,9,11]\n",
    "k=np.array(k)\n",
    "no=[]\n",
    "for i in range(0,5):\n",
    "    count=0\n",
    "    for j in range(0,500):\n",
    "        if g[j][i]==c[j][i]:\n",
    "            count=count+1\n",
    "    no.append(count)\n",
    "no=np.array(no)\n",
    "no=no/5\n",
    "plt.plot(k,no)\n",
    "plt.xlabel('k -->')\n",
    "plt.ylabel('accuracy -->')\n",
    "plt.title('task 1 using CIFAR10 dataset')\n",
    "plt.show()\n",
    "print('the average accuracy :',np.mean(no))"
   ]
  },
  {
   "cell_type": "code",
   "execution_count": 4,
   "id": "cbf5be13",
   "metadata": {},
   "outputs": [
    {
     "data": {
      "image/png": "[encoded data removed]",
      "text/plain": [
       "<Figure size 432x288 with 1 Axes>"
      ]
     },
     "metadata": {
      "needs_background": "light"
     },
     "output_type": "display_data"
    },
    {
     "name": "stdout",
     "output_type": "stream",
     "text": [
      "the average accuracy : 13.64\n"
     ]
    }
   ],
   "source": [
    "import scipy.io as sio\n",
    "import scipy\n",
    "import numpy as np\n",
    "import cv2\n",
    "from matplotlib import pyplot as plt\n",
    "from scipy import stats\n",
    "\n",
    "g=np.ones((500,5),dtype='int64')\n",
    "for i in range(0,len(Xhist_test[i])):\n",
    "    a=Xhist_test[i]\n",
    "    a=np.reshape(a,(255,1))\n",
    "    b=np.array(Xhist_train)\n",
    "    \n",
    "    det_a=np.sqrt(sum(a**2))[0]\n",
    "    squared_b=b**2\n",
    "    det_b=np.sqrt(np.sum(squared_b,axis=1,dtype='int64'))\n",
    "    prod=np.dot(b,a)\n",
    "    prod_by_det_a=prod/det_a\n",
    "    ncc=np.divide(prod_by_det_a,np.reshape(det_b,(5000,1)))\n",
    "    ncc=ncc.tolist()\n",
    "    for k in range(0,len(ncc)):\n",
    "        ncc[k]=ncc[k][0]\n",
    "    indexes=[]\n",
    "    for k in range(0,11):\n",
    "        index=ncc.index(max(ncc))\n",
    "        indexes.append(index)\n",
    "        ncc[index]=min(ncc)\n",
    "    Ylabel=[]\n",
    "    for j in range(0,11):\n",
    "        Ylabel.append(Ytrain[indexes[j]])\n",
    "    for j in range(0,len(Ylabel)):\n",
    "        Ylabel[j]=Ylabel[j][0]\n",
    "    g[i][0]=Ylabel[0]\n",
    "    g[i][1]=stats.mode(Ylabel[0:3])[0].tolist()[0]\n",
    "    g[i][2]=stats.mode(Ylabel[0:5])[0].tolist()[0]\n",
    "    g[i][3]=stats.mode(Ylabel[0:9])[0].tolist()[0]\n",
    "    g[i][4]=stats.mode(Ylabel[0:11])[0].tolist()[0]\n",
    "\n",
    "ytest=np.reshape(Ytest,(500,1))\n",
    "c=ytest*np.ones((500,5),dtype='int64')\n",
    "error=g-c\n",
    "k=[1,3,5,9,11]\n",
    "k=np.array(k)\n",
    "no=[]\n",
    "for i in range(0,5):\n",
    "    count=0\n",
    "    for j in range(0,500):\n",
    "        if g[j][i]==c[j][i]:\n",
    "            count=count+1\n",
    "    no.append(count)\n",
    "no=np.array(no)\n",
    "no=no/5\n",
    "plt.plot(k,no)\n",
    "plt.xlabel('k -->')\n",
    "plt.ylabel('accuracy -->')\n",
    "plt.title('task 2 using CIFAR10 dataset')\n",
    "plt.show()    \n",
    "print('the average accuracy :',np.mean(no))"
   ]
  }
 ],
 "metadata": {
  "kernelspec": {
   "display_name": "mlip",
   "language": "python",
   "name": "mlip"
  },
  "language_info": {
   "codemirror_mode": {
    "name": "ipython",
    "version": 3
   },
   "file_extension": ".py",
   "mimetype": "text/x-python",
   "name": "python",
   "nbconvert_exporter": "python",
   "pygments_lexer": "ipython3",
   "version": "3.7.15"
  }
 },
 "nbformat": 4,
 "nbformat_minor": 5
}
